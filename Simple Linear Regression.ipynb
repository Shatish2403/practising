{
 "cells": [
  {
   "cell_type": "code",
   "execution_count": 1,
   "id": "dcd1c19d-d648-499c-9608-65dbd9023a5c",
   "metadata": {},
   "outputs": [],
   "source": [
    "import numpy as np\n",
    "x_train = np.array([1.0,2.0])\n",
    "y_train = np.array([300.0,500.0])"
   ]
  },
  {
   "cell_type": "code",
   "execution_count": 2,
   "id": "275d6059-27fa-46bc-8311-eaeff16bce3c",
   "metadata": {},
   "outputs": [],
   "source": [
    "def compute_cost(x,y,w,b):\n",
    "    error = np.zeros(len(x))\n",
    "    for i in range(0,len(x)):\n",
    "        error[i] = ((w*x[i]+b) - y[i])**2   \n",
    "    return sum(error)/2*len(x)"
   ]
  },
  {
   "cell_type": "code",
   "execution_count": 3,
   "id": "b5d55823-e571-4cd9-a546-c3b7d1f1751d",
   "metadata": {},
   "outputs": [],
   "source": [
    "def compute_corr_error(x,y,w,b):\n",
    "    m = len(x)\n",
    "    dx_dw = np.zeros(m)\n",
    "    dx_db = np.zeros(m)\n",
    "    for i in range(0,m):\n",
    "       dx_dw[i]  = (((w*x[i])+b)-y[i])*x[i]\n",
    "       dx_db[i]  = (((w*x[i])+b)-y[i])\n",
    "        \n",
    "    d_dw = sum(dx_dw)/m\n",
    "    d_db = sum(dx_db)/m\n",
    "    return d_dw,d_db\n",
    "        \n",
    "    "
   ]
  },
  {
   "cell_type": "code",
   "execution_count": 4,
   "id": "1c94a2e1-6ccb-42f4-9afd-3bc1c55810fa",
   "metadata": {},
   "outputs": [],
   "source": [
    "def grad_desc(x,y,epoch,alpha):\n",
    "    w=b=0\n",
    "    for _ in range(epoch):\n",
    "        dw,db = compute_corr_error(x,y,w,b)\n",
    "        nw = w - alpha*dw\n",
    "        nb = b - alpha*db\n",
    "        w = nw\n",
    "        b = nb\n",
    "\n",
    "    a = compute_cost(x,y,w,b)\n",
    "    b = print(f\"weight is :{w}\",f\"bias is {b}\",f\"and cost is {a}\")\n",
    "    return b\n",
    "        \n",
    "    "
   ]
  },
  {
   "cell_type": "code",
   "execution_count": 5,
   "id": "1928fa85-c3eb-49d5-9f2c-1d0b1a328394",
   "metadata": {},
   "outputs": [
    {
     "name": "stdout",
     "output_type": "stream",
     "text": [
      "weight is :199.99285075131766 bias is 100.011567727362 and cost is 2.698005865032158e-05\n"
     ]
    }
   ],
   "source": [
    "grad_desc(x_train,y_train,10000,1.0e-2)"
   ]
  },
  {
   "cell_type": "code",
   "execution_count": 6,
   "id": "b1d644e8-f522-44c7-8576-c22c351db081",
   "metadata": {},
   "outputs": [
    {
     "data": {
      "text/plain": [
       "(0.0, 0.0)"
      ]
     },
     "execution_count": 6,
     "metadata": {},
     "output_type": "execute_result"
    }
   ],
   "source": [
    "compute_corr_error(x_train,y_train,200,100)"
   ]
  },
  {
   "cell_type": "code",
   "execution_count": 8,
   "id": "ea029b3b-c698-43fe-a19e-e6462aed72da",
   "metadata": {},
   "outputs": [],
   "source": [
    "import numpy as np"
   ]
  },
  {
   "cell_type": "code",
   "execution_count": 14,
   "id": "63be1d0f-e9be-4f54-9b97-c5379c7fda3b",
   "metadata": {},
   "outputs": [],
   "source": [
    "a =  np.random.random_sample(4)"
   ]
  },
  {
   "cell_type": "code",
   "execution_count": 17,
   "id": "f10d44a9-22aa-4059-9c42-1e9d53b9fabb",
   "metadata": {},
   "outputs": [],
   "source": [
    "b = np.random.rand(4)"
   ]
  },
  {
   "cell_type": "code",
   "execution_count": 18,
   "id": "e217d69e-905b-4f2a-8dfa-98799958f141",
   "metadata": {},
   "outputs": [
    {
     "data": {
      "text/plain": [
       "(array([0.09716486, 0.68638309, 0.57596832, 0.96659901]),\n",
       " array([0.94783636, 0.24251333, 0.22004206, 0.30550036]))"
      ]
     },
     "execution_count": 18,
     "metadata": {},
     "output_type": "execute_result"
    }
   ],
   "source": [
    "a,b"
   ]
  },
  {
   "cell_type": "code",
   "execution_count": null,
   "id": "cbd5eff6-c0ed-42b2-8c67-2e9b49302e14",
   "metadata": {},
   "outputs": [],
   "source": []
  }
 ],
 "metadata": {
  "kernelspec": {
   "display_name": "Python 3 (ipykernel)",
   "language": "python",
   "name": "python3"
  },
  "language_info": {
   "codemirror_mode": {
    "name": "ipython",
    "version": 3
   },
   "file_extension": ".py",
   "mimetype": "text/x-python",
   "name": "python",
   "nbconvert_exporter": "python",
   "pygments_lexer": "ipython3",
   "version": "3.12.8"
  }
 },
 "nbformat": 4,
 "nbformat_minor": 5
}
